{
 "cells": [
  {
   "cell_type": "code",
   "execution_count": 22,
   "id": "d7300c72",
   "metadata": {},
   "outputs": [
    {
     "name": "stdout",
     "output_type": "stream",
     "text": [
      "3\n",
      "10010111\n",
      "011000100110001\n",
      "0110001011001\n",
      "NO\n",
      "NO\n",
      "YES\n"
     ]
    }
   ],
   "source": [
    "# https://www.acmicpc.net/problem/1013\n",
    "\n",
    "import re\n",
    "\n",
    "n = int(input())\n",
    "arr = []\n",
    "p = re.compile('(100+1+|01)+')\n",
    "for i in range(0, n):\n",
    "    arr.append(input())\n",
    "    \n",
    "for i in range(0, n):\n",
    "    if p.fullmatch(arr[i]):\n",
    "        print(\"YES\")\n",
    "    else:\n",
    "        print(\"NO\")\n"
   ]
  },
  {
   "cell_type": "code",
   "execution_count": 11,
   "id": "025f5338",
   "metadata": {},
   "outputs": [
    {
     "name": "stdout",
     "output_type": "stream",
     "text": [
      "11\n",
      "NO\n",
      "0\n",
      "NO\n",
      "\n",
      "YES\n"
     ]
    }
   ],
   "source": [
    "for i in range(0, n):\n",
    "    res_str = re.sub(r\"(100+1+|01)+\", \"\", arr[i])\n",
    "    print(res_str)\n",
    "    if len(res_str) == 0:\n",
    "        print(\"YES\")\n",
    "    else:\n",
    "        print(\"NO\")"
   ]
  },
  {
   "cell_type": "code",
   "execution_count": 7,
   "id": "8d487523",
   "metadata": {},
   "outputs": [],
   "source": [
    "res_str = re.sub(r\"(100+1+|01)+\", \"\", \"0110001011001\")"
   ]
  },
  {
   "cell_type": "code",
   "execution_count": null,
   "id": "3e7a1c4e",
   "metadata": {},
   "outputs": [],
   "source": [
    "3\n",
    "10010111\n",
    "011000100110001\n",
    "0110001011001"
   ]
  }
 ],
 "metadata": {
  "kernelspec": {
   "display_name": "Python 3 (ipykernel)",
   "language": "python",
   "name": "python3"
  },
  "language_info": {
   "codemirror_mode": {
    "name": "ipython",
    "version": 3
   },
   "file_extension": ".py",
   "mimetype": "text/x-python",
   "name": "python",
   "nbconvert_exporter": "python",
   "pygments_lexer": "ipython3",
   "version": "3.9.6"
  }
 },
 "nbformat": 4,
 "nbformat_minor": 5
}
