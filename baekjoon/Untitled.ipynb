{
 "cells": [
  {
   "cell_type": "code",
   "execution_count": 561,
   "id": "3eb17e42",
   "metadata": {},
   "outputs": [
    {
     "name": "stdout",
     "output_type": "stream",
     "text": [
      "5\n",
      "1 2 7 3 2\n"
     ]
    }
   ],
   "source": [
    "# 고층 건물\n",
    "# https://www.acmicpc.net/problem/1027\n",
    "\n",
    "n = int(input())\n",
    "arr = list(map(int, input().split(' ')))"
   ]
  },
  {
   "cell_type": "code",
   "execution_count": 562,
   "id": "f1ecc84f",
   "metadata": {},
   "outputs": [
    {
     "name": "stdout",
     "output_type": "stream",
     "text": [
      "4\n"
     ]
    }
   ],
   "source": [
    "n = int(input())\n",
    "arr = list(map(int, input().split(' ')))\n",
    "\n",
    "def get_m(x1, y1, x2, y2):\n",
    "    return (y2 - y1) / (x2 - x1)\n",
    "\n",
    "def r_b_building(arr, n1):\n",
    "    is_first = True\n",
    "    cnt = 0\n",
    "    for i in range(n1, len(arr)-1):\n",
    "        if is_first or m < get_m(n1, arr[n1], i+1, arr[i+1]):\n",
    "            is_first = False\n",
    "            m = get_m(n1, arr[n1], i+1, arr[i+1])\n",
    "            cnt = cnt + 1\n",
    " \n",
    "    return cnt\n",
    "\n",
    "def l_b_building(arr, n2):\n",
    "    is_first = True\n",
    "    cnt = 0\n",
    "    for i in range(1, n2+1):\n",
    "        if is_first or m > get_m(n2, arr[n2], n2-i, arr[n2-i]): \n",
    "            m = get_m(n2, arr[n2], n2-i, arr[n2-i])\n",
    "            is_first = False\n",
    "            cnt = cnt + 1\n",
    "            \n",
    "    return cnt\n",
    "\n",
    "sum_v = 0\n",
    "ans = 0\n",
    "for i in range(0, n):\n",
    "    sum_v = 0\n",
    "    if i != n-1: # right\n",
    "        sum_v = sum_v + r_b_building(arr, i)\n",
    "\n",
    "    if i != 0: # left\n",
    "        sum_v = sum_v + l_b_building(arr, i)\n",
    "    \n",
    "    if sum_v > ans:\n",
    "        ans = sum_v\n",
    "\n",
    "print(ans)"
   ]
  },
  {
   "cell_type": "code",
   "execution_count": 546,
   "id": "cb0906ee",
   "metadata": {},
   "outputs": [],
   "source": [
    "iss = True\n",
    "for i in range(1,1,-1):\n",
    "    print(i)\n",
    "    "
   ]
  },
  {
   "cell_type": "code",
   "execution_count": null,
   "id": "8c946836",
   "metadata": {},
   "outputs": [],
   "source": []
  },
  {
   "cell_type": "code",
   "execution_count": null,
   "id": "d728b82c",
   "metadata": {},
   "outputs": [],
   "source": []
  },
  {
   "cell_type": "code",
   "execution_count": null,
   "id": "f02fcd9a",
   "metadata": {},
   "outputs": [],
   "source": []
  },
  {
   "cell_type": "code",
   "execution_count": null,
   "id": "d86c44fe",
   "metadata": {},
   "outputs": [],
   "source": []
  },
  {
   "cell_type": "code",
   "execution_count": null,
   "id": "98972140",
   "metadata": {},
   "outputs": [],
   "source": [
    "n = int(input())\n",
    "arr = list(map(int, input().split(' ')))\n"
   ]
  }
 ],
 "metadata": {
  "kernelspec": {
   "display_name": "Python 3",
   "language": "python",
   "name": "python3"
  },
  "language_info": {
   "codemirror_mode": {
    "name": "ipython",
    "version": 3
   },
   "file_extension": ".py",
   "mimetype": "text/x-python",
   "name": "python",
   "nbconvert_exporter": "python",
   "pygments_lexer": "ipython3",
   "version": "3.9.6 (default, Oct 18 2022, 12:41:40) \n[Clang 14.0.0 (clang-1400.0.29.202)]"
  },
  "vscode": {
   "interpreter": {
    "hash": "8a5edab282632443219e051e4ade2d1d5bbc671c781051bf1437897cbdfea0f1"
   }
  }
 },
 "nbformat": 4,
 "nbformat_minor": 5
}
