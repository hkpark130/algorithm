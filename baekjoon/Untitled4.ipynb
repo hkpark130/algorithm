{
 "cells": [
  {
   "cell_type": "code",
   "execution_count": 7,
   "id": "bd86ca5a",
   "metadata": {},
   "outputs": [
    {
     "name": "stdout",
     "output_type": "stream",
     "text": [
      "121\n",
      "1\n",
      "12\n"
     ]
    }
   ],
   "source": [
    "a = input()\n",
    "b = input()\n",
    "ref = a.index(max(a))\n",
    "\n",
    "# https://www.acmicpc.net/problem/1467"
   ]
  },
  {
   "cell_type": "code",
   "execution_count": 4,
   "id": "7e1ddd18",
   "metadata": {},
   "outputs": [
    {
     "name": "stdout",
     "output_type": "stream",
     "text": [
      "443232144332113214323214134231421214\n",
      "11122222333444\n",
      "43232144332113214323214134231421214 44323214433211321432321413423142121\n",
      "4323214433211321432321413423142121 4432321443321132143232141342312121\n",
      "432321443321132143232141342312121 443232144332113214323214132312121\n",
      "44232144332113214323214132312121 44323214433211321432321413212121\n",
      "4423214433211321432321413212121 4432321443321132143232141212121\n",
      "442321443321132143232141212121 443232144332113214322141212121\n",
      "44332144332113214322141212121 44323214433211321432214121211\n",
      "4433144332113214322141212121 4433214433211321432214121211\n",
      "443314433211321432214121211 443321443321132143221412111\n",
      "44331443321132143221412111 44332144332113214322141111\n",
      "4433144332113214322141111 4433214433211321432141111\n",
      "443324433211321432141111 443321443321132143214111\n",
      "44332443321321432141111 44332443321132143214111\n",
      "4433244332321432141111 4433244332132143214111\n",
      "4433244332321432141111\n"
     ]
    }
   ],
   "source": [
    "# a = \"443232144332113214323214134231421214\"\n",
    "# b = \"11122222333444\"\n",
    "# # 4444333214332141321211\n",
    "a = input()\n",
    "b = input()\n",
    "b = sorted(b, reverse=True)\n",
    "\n",
    "for x in b:\n",
    "    front= False\n",
    "    back = False\n",
    "    for i in range(len(a)):\n",
    "        if not front:\n",
    "            if a[i] == x:\n",
    "                f = a[:i] + a[i + 1:]\n",
    "                front = True\n",
    "            \n",
    "        if not back:\n",
    "            if a[len(a)-(i+1)] == x:\n",
    "                b = a[:len(a)-(i+1)] + a[len(a)-(i+1) + 1:]\n",
    "                back = True\n",
    "        \n",
    "        if front and back:\n",
    "            print(f,b)\n",
    "            if f >= b :\n",
    "                a = f\n",
    "            else :\n",
    "                a = b\n",
    "            break\n",
    "\n",
    "print(''.join(map(str, a)))\n"
   ]
  },
  {
   "cell_type": "code",
   "execution_count": 52,
   "id": "dfc4638c",
   "metadata": {},
   "outputs": [
    {
     "data": {
      "text/plain": [
       "['4', '3', '2', '1']"
      ]
     },
     "execution_count": 52,
     "metadata": {},
     "output_type": "execute_result"
    }
   ],
   "source": [
    "c = \"2134\"\n",
    "d = sorted(c, reverse=True)\n",
    "d"
   ]
  },
  {
   "cell_type": "code",
   "execution_count": null,
   "id": "30ed5190",
   "metadata": {},
   "outputs": [],
   "source": []
  }
 ],
 "metadata": {
  "kernelspec": {
   "display_name": "Python 3 (ipykernel)",
   "language": "python",
   "name": "python3"
  },
  "language_info": {
   "codemirror_mode": {
    "name": "ipython",
    "version": 3
   },
   "file_extension": ".py",
   "mimetype": "text/x-python",
   "name": "python",
   "nbconvert_exporter": "python",
   "pygments_lexer": "ipython3",
   "version": "3.9.6"
  }
 },
 "nbformat": 4,
 "nbformat_minor": 5
}
