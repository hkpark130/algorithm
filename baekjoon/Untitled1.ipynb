{
 "cells": [
  {
   "cell_type": "code",
   "execution_count": 15,
   "id": "0ad76df9",
   "metadata": {},
   "outputs": [
    {
     "name": "stdout",
     "output_type": "stream",
     "text": [
      "5\n",
      "5\n",
      "4\n",
      "3\n",
      "2\n",
      "1\n",
      "[5, 4, 3, 2, 1]\n",
      "[4, 3, 2, 1]\n",
      "[3, 2, 1]\n",
      "[2, 1]\n",
      "[1]\n",
      "1\n",
      "1\n",
      "1\n",
      "1\n",
      "1\n"
     ]
    }
   ],
   "source": [
    "def sorting_arr(arr):\n",
    "    arr2 = []\n",
    "    for i in range(0, len(arr)):\n",
    "        print(arr[i:])\n",
    "        arr2.append(min(arr[i:]))\n",
    "        tmp = arr[i]\n",
    "        arr[i] = \n",
    "        \n",
    "    return arr2\n",
    "\n",
    "arr = []\n",
    "n = int(input())\n",
    "for i in range(0, n):\n",
    "    arr.append(int(input()))\n",
    "\n",
    "arr2 = sorting_arr(arr)\n",
    "for i in range(0, n):\n",
    "    print(arr2[i])"
   ]
  },
  {
   "cell_type": "code",
   "execution_count": 7,
   "id": "ac80b2bc",
   "metadata": {},
   "outputs": [
    {
     "name": "stdout",
     "output_type": "stream",
     "text": [
      "1\n",
      "2\n",
      "3\n",
      "4\n",
      "5\n"
     ]
    }
   ],
   "source": [
    "arr2 = sorted(arr)\n",
    "for i in range(0, n):\n",
    "    print(arr2[i])"
   ]
  },
  {
   "cell_type": "code",
   "execution_count": 11,
   "id": "c8bc516b",
   "metadata": {},
   "outputs": [
    {
     "data": {
      "text/plain": [
       "[4, 3, 2, 1]"
      ]
     },
     "execution_count": 11,
     "metadata": {},
     "output_type": "execute_result"
    }
   ],
   "source": [
    "arr[1:]"
   ]
  },
  {
   "cell_type": "code",
   "execution_count": null,
   "id": "fe7ba6ed",
   "metadata": {},
   "outputs": [],
   "source": []
  }
 ],
 "metadata": {
  "kernelspec": {
   "display_name": "Python 3",
   "language": "python",
   "name": "python3"
  },
  "language_info": {
   "codemirror_mode": {
    "name": "ipython",
    "version": 3
   },
   "file_extension": ".py",
   "mimetype": "text/x-python",
   "name": "python",
   "nbconvert_exporter": "python",
   "pygments_lexer": "ipython3",
   "version": "3.9.6 (default, Oct 18 2022, 12:41:40) \n[Clang 14.0.0 (clang-1400.0.29.202)]"
  },
  "vscode": {
   "interpreter": {
    "hash": "8a5edab282632443219e051e4ade2d1d5bbc671c781051bf1437897cbdfea0f1"
   }
  }
 },
 "nbformat": 4,
 "nbformat_minor": 5
}
