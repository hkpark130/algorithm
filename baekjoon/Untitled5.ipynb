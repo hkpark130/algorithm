{
 "cells": [
  {
   "cell_type": "code",
   "execution_count": 29,
   "id": "9da0b5d2",
   "metadata": {},
   "outputs": [
    {
     "name": "stdout",
     "output_type": "stream",
     "text": [
      "5 6\n",
      "1\n",
      "2\n",
      "3\n",
      "4\n",
      "11\n",
      "7\n"
     ]
    }
   ],
   "source": [
    "def binary_search(cur, sorted_data, m): # 정렬된 배열을 기반\n",
    "    start = 0\n",
    "    end = len(sorted_data) - 1\n",
    "    min_v = sorted_data[-1]\n",
    "    while start <= end:\n",
    "        mid = (start + end) // 2\n",
    "        if sorted_data[mid] - cur >= m: # 기준값 보다 왼쪽\n",
    "            end = mid -1\n",
    "            if min_v >= sorted_data[mid] - cur:\n",
    "                min_v = sorted_data[mid] - cur\n",
    "        else:                         # 기준값 보다 오른쪽\n",
    "            start = mid + 1\n",
    "                \n",
    "        if min_v == m + cur:\n",
    "            return min_v\n",
    "\n",
    "    return min_v\n",
    "\n",
    "arr = []\n",
    "n, m = map(int, input().split(' '))\n",
    "for i in range(0, n):\n",
    "    arr.append(int(input()))\n",
    "arr = sorted(arr)\n",
    "\n",
    "min_v = arr[-1]\n",
    "for i in range(len(arr)-1):\n",
    "    ret_v = binary_search(arr[i], arr[i+1:], m)\n",
    "    if ret_v == m + arr[i]:\n",
    "        min_v = ret_v\n",
    "        break\n",
    "        \n",
    "    if min_v > ret_v:\n",
    "        min_v = ret_v\n",
    "        \n",
    "print(min_v)"
   ]
  },
  {
   "cell_type": "code",
   "execution_count": 15,
   "id": "ba4709bb",
   "metadata": {},
   "outputs": [
    {
     "data": {
      "text/plain": [
       "[1, 4]"
      ]
     },
     "execution_count": 15,
     "metadata": {},
     "output_type": "execute_result"
    }
   ],
   "source": [
    "arr = [1,2,4]\n",
    "arr[:0]+arr[0:]"
   ]
  },
  {
   "cell_type": "code",
   "execution_count": 7,
   "id": "00c40a1c",
   "metadata": {},
   "outputs": [
    {
     "name": "stdout",
     "output_type": "stream",
     "text": [
      "0\n",
      "1\n",
      "2\n"
     ]
    }
   ],
   "source": [
    "for i in range(3):\n",
    "    print(i)"
   ]
  },
  {
   "cell_type": "code",
   "execution_count": null,
   "id": "37f09aef",
   "metadata": {},
   "outputs": [],
   "source": []
  }
 ],
 "metadata": {
  "kernelspec": {
   "display_name": "Python 3 (ipykernel)",
   "language": "python",
   "name": "python3"
  },
  "language_info": {
   "codemirror_mode": {
    "name": "ipython",
    "version": 3
   },
   "file_extension": ".py",
   "mimetype": "text/x-python",
   "name": "python",
   "nbconvert_exporter": "python",
   "pygments_lexer": "ipython3",
   "version": "3.9.6"
  }
 },
 "nbformat": 4,
 "nbformat_minor": 5
}
