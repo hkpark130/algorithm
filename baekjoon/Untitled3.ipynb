{
 "cells": [
  {
   "cell_type": "code",
   "execution_count": 204,
   "id": "286bc58a",
   "metadata": {},
   "outputs": [
    {
     "name": "stdout",
     "output_type": "stream",
     "text": [
      "3\n",
      "1 2 3\n"
     ]
    }
   ],
   "source": [
    "# n = int(input())\n",
    "# arr = list(map(int, input().split(' ')))"
   ]
  },
  {
   "cell_type": "code",
   "execution_count": 13,
   "id": "d746af24",
   "metadata": {},
   "outputs": [
    {
     "name": "stdout",
     "output_type": "stream",
     "text": [
      "1 1 1 3 2 2 2 4 4 4 3 3\n"
     ]
    }
   ],
   "source": [
    "# 소트\n",
    "# https://www.acmicpc.net/problem/1071\n",
    "\n",
    "n = int(input())\n",
    "arr = list(map(int, input().split(' ')))\n",
    "arr = sorted(arr)\n",
    "for i in range(n-1):\n",
    "    if (arr[i]+1 == arr[i+1]):\n",
    "        tmp = arr[i+1]\n",
    "        index = [i2 for i2, x2 in enumerate(arr[i:]) if x2 == tmp]\n",
    "        if n == i+len(index)+1:\n",
    "            tmp = arr[i]\n",
    "            arr2 = arr[:i+1]\n",
    "            cnt = 0\n",
    "            for x in arr2[::-1]:\n",
    "                if x == tmp:\n",
    "                    cnt = cnt+1\n",
    "                else:\n",
    "                    break\n",
    "            for j in range(cnt):\n",
    "                arr[i-j] = arr[i+len(index)-j]\n",
    "                arr[i+len(index)-j] = tmp\n",
    "        else:\n",
    "            arr[i+1] = arr[i+len(index)+1]\n",
    "            arr[i+len(index)+1] = tmp\n",
    "#     elif (i>0) and (arr[i]+1 == arr[i-1]):\n",
    "\n",
    "print(' '.join(map(str, arr)))"
   ]
  },
  {
   "cell_type": "code",
   "execution_count": 76,
   "id": "011f84ec",
   "metadata": {},
   "outputs": [
    {
     "data": {
      "text/plain": [
       "[3, 3, 4, 2, 3, 1]"
      ]
     },
     "execution_count": 76,
     "metadata": {},
     "output_type": "execute_result"
    }
   ],
   "source": [
    "tmp = 3\n",
    "arr=[1, 3, 2, 4, 3, 3, 4]\n",
    "arr2 = arr[:6]\n",
    "cnt=0\n",
    "for i in arr2[::-1]:\n",
    "    if i == tmp:\n",
    "        cnt = cnt+1\n",
    "    else:\n",
    "        break\n",
    "cnt"
   ]
  },
  {
   "cell_type": "code",
   "execution_count": 72,
   "id": "111fe4df",
   "metadata": {},
   "outputs": [
    {
     "ename": "NameError",
     "evalue": "name 'itertools' is not defined",
     "output_type": "error",
     "traceback": [
      "\u001b[0;31m---------------------------------------------------------------------------\u001b[0m",
      "\u001b[0;31mNameError\u001b[0m                                 Traceback (most recent call last)",
      "Cell \u001b[0;32mIn[72], line 1\u001b[0m\n\u001b[0;32m----> 1\u001b[0m \u001b[38;5;28mlist\u001b[39m(\u001b[43mitertools\u001b[49m\u001b[38;5;241m.\u001b[39mtakewhile(\u001b[38;5;28;01mlambda\u001b[39;00m x: x \u001b[38;5;241m!=\u001b[39m \u001b[38;5;241m412\u001b[39m, arr))\n",
      "\u001b[0;31mNameError\u001b[0m: name 'itertools' is not defined"
     ]
    }
   ],
   "source": [
    "list(itertools.takewhile(lambda x: x != 412, arr))"
   ]
  },
  {
   "cell_type": "code",
   "execution_count": null,
   "id": "18e3a061",
   "metadata": {},
   "outputs": [],
   "source": []
  },
  {
   "cell_type": "code",
   "execution_count": null,
   "id": "9edbaf05",
   "metadata": {},
   "outputs": [],
   "source": []
  }
 ],
 "metadata": {
  "kernelspec": {
   "display_name": "Python 3 (ipykernel)",
   "language": "python",
   "name": "python3"
  },
  "language_info": {
   "codemirror_mode": {
    "name": "ipython",
    "version": 3
   },
   "file_extension": ".py",
   "mimetype": "text/x-python",
   "name": "python",
   "nbconvert_exporter": "python",
   "pygments_lexer": "ipython3",
   "version": "3.9.6"
  }
 },
 "nbformat": 4,
 "nbformat_minor": 5
}
